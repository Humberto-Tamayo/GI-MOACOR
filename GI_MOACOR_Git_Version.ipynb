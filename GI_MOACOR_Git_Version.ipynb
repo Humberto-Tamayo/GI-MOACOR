{
  "cells": [
    {
      "cell_type": "code",
      "execution_count": null,
      "metadata": {
        "colab": {
          "base_uri": "https://localhost:8080/"
        },
        "id": "MGHU_YDBan1m",
        "outputId": "18fe5c66-0b45-4ce2-97f6-e4af06d2c376"
      },
      "outputs": [
        {
          "output_type": "stream",
          "name": "stdout",
          "text": [
            "Mounted at drive/\n"
          ]
        }
      ],
      "source": [
        "from google.colab import drive\n",
        "drive.mount('drive/')"
      ]
    },
    {
      "cell_type": "code",
      "execution_count": null,
      "metadata": {
        "id": "iPBT1g5Xa4Th"
      },
      "outputs": [],
      "source": [
        "import os\n",
        "os.chdir('/content/drive/MyDrive/New_MOACOR/')\n",
        "cwd= os.getcwd()\n",
        "\n",
        "%run moacor_functions\n",
        "%run DissimilarityMatrix_drive\n",
        "%run ReduceCardinality_drive"
      ]
    },
    {
      "cell_type": "code",
      "execution_count": null,
      "metadata": {
        "colab": {
          "base_uri": "https://localhost:8080/"
        },
        "id": "CbnUkDombf98",
        "outputId": "02f56b94-e4f7-438b-8a6d-457067ad1b12"
      },
      "outputs": [
        {
          "output_type": "stream",
          "name": "stdout",
          "text": [
            "Collecting pymoo\n",
            "  Downloading pymoo-0.6.1.1-cp310-cp310-manylinux_2_17_x86_64.manylinux2014_x86_64.whl (4.1 MB)\n",
            "\u001b[2K     \u001b[90m━━━━━━━━━━━━━━━━━━━━━━━━━━━━━━━━━━━━━━━━\u001b[0m \u001b[32m4.1/4.1 MB\u001b[0m \u001b[31m8.7 MB/s\u001b[0m eta \u001b[36m0:00:00\u001b[0m\n",
            "\u001b[?25hRequirement already satisfied: numpy>=1.15 in /usr/local/lib/python3.10/dist-packages (from pymoo) (1.25.2)\n",
            "Requirement already satisfied: scipy>=1.1 in /usr/local/lib/python3.10/dist-packages (from pymoo) (1.11.4)\n",
            "Requirement already satisfied: matplotlib>=3 in /usr/local/lib/python3.10/dist-packages (from pymoo) (3.7.1)\n",
            "Requirement already satisfied: autograd>=1.4 in /usr/local/lib/python3.10/dist-packages (from pymoo) (1.6.2)\n",
            "Collecting cma==3.2.2 (from pymoo)\n",
            "  Downloading cma-3.2.2-py2.py3-none-any.whl (249 kB)\n",
            "\u001b[2K     \u001b[90m━━━━━━━━━━━━━━━━━━━━━━━━━━━━━━━━━━━━━━━━\u001b[0m \u001b[32m249.1/249.1 kB\u001b[0m \u001b[31m16.2 MB/s\u001b[0m eta \u001b[36m0:00:00\u001b[0m\n",
            "\u001b[?25hCollecting alive-progress (from pymoo)\n",
            "  Downloading alive_progress-3.1.5-py3-none-any.whl (75 kB)\n",
            "\u001b[2K     \u001b[90m━━━━━━━━━━━━━━━━━━━━━━━━━━━━━━━━━━━━━━━━\u001b[0m \u001b[32m76.0/76.0 kB\u001b[0m \u001b[31m7.2 MB/s\u001b[0m eta \u001b[36m0:00:00\u001b[0m\n",
            "\u001b[?25hCollecting dill (from pymoo)\n",
            "  Downloading dill-0.3.8-py3-none-any.whl (116 kB)\n",
            "\u001b[2K     \u001b[90m━━━━━━━━━━━━━━━━━━━━━━━━━━━━━━━━━━━━━━━━\u001b[0m \u001b[32m116.3/116.3 kB\u001b[0m \u001b[31m7.8 MB/s\u001b[0m eta \u001b[36m0:00:00\u001b[0m\n",
            "\u001b[?25hCollecting Deprecated (from pymoo)\n",
            "  Downloading Deprecated-1.2.14-py2.py3-none-any.whl (9.6 kB)\n",
            "Requirement already satisfied: future>=0.15.2 in /usr/local/lib/python3.10/dist-packages (from autograd>=1.4->pymoo) (0.18.3)\n",
            "Requirement already satisfied: contourpy>=1.0.1 in /usr/local/lib/python3.10/dist-packages (from matplotlib>=3->pymoo) (1.2.0)\n",
            "Requirement already satisfied: cycler>=0.10 in /usr/local/lib/python3.10/dist-packages (from matplotlib>=3->pymoo) (0.12.1)\n",
            "Requirement already satisfied: fonttools>=4.22.0 in /usr/local/lib/python3.10/dist-packages (from matplotlib>=3->pymoo) (4.50.0)\n",
            "Requirement already satisfied: kiwisolver>=1.0.1 in /usr/local/lib/python3.10/dist-packages (from matplotlib>=3->pymoo) (1.4.5)\n",
            "Requirement already satisfied: packaging>=20.0 in /usr/local/lib/python3.10/dist-packages (from matplotlib>=3->pymoo) (24.0)\n",
            "Requirement already satisfied: pillow>=6.2.0 in /usr/local/lib/python3.10/dist-packages (from matplotlib>=3->pymoo) (9.4.0)\n",
            "Requirement already satisfied: pyparsing>=2.3.1 in /usr/local/lib/python3.10/dist-packages (from matplotlib>=3->pymoo) (3.1.2)\n",
            "Requirement already satisfied: python-dateutil>=2.7 in /usr/local/lib/python3.10/dist-packages (from matplotlib>=3->pymoo) (2.8.2)\n",
            "Collecting about-time==4.2.1 (from alive-progress->pymoo)\n",
            "  Downloading about_time-4.2.1-py3-none-any.whl (13 kB)\n",
            "Collecting grapheme==0.6.0 (from alive-progress->pymoo)\n",
            "  Downloading grapheme-0.6.0.tar.gz (207 kB)\n",
            "\u001b[2K     \u001b[90m━━━━━━━━━━━━━━━━━━━━━━━━━━━━━━━━━━━━━━━━\u001b[0m \u001b[32m207.3/207.3 kB\u001b[0m \u001b[31m14.6 MB/s\u001b[0m eta \u001b[36m0:00:00\u001b[0m\n",
            "\u001b[?25h  Preparing metadata (setup.py) ... \u001b[?25l\u001b[?25hdone\n",
            "Requirement already satisfied: wrapt<2,>=1.10 in /usr/local/lib/python3.10/dist-packages (from Deprecated->pymoo) (1.14.1)\n",
            "Requirement already satisfied: six>=1.5 in /usr/local/lib/python3.10/dist-packages (from python-dateutil>=2.7->matplotlib>=3->pymoo) (1.16.0)\n",
            "Building wheels for collected packages: grapheme\n",
            "  Building wheel for grapheme (setup.py) ... \u001b[?25l\u001b[?25hdone\n",
            "  Created wheel for grapheme: filename=grapheme-0.6.0-py3-none-any.whl size=210078 sha256=3f661e6fd2da85b2181e4843654e76c87e8568cec7409417874f123c10cb77f7\n",
            "  Stored in directory: /root/.cache/pip/wheels/01/e1/49/37e6bde9886439057450c494a79b0bef8bbe897a54aebfc757\n",
            "Successfully built grapheme\n",
            "Installing collected packages: grapheme, dill, Deprecated, cma, about-time, alive-progress, pymoo\n",
            "Successfully installed Deprecated-1.2.14 about-time-4.2.1 alive-progress-3.1.5 cma-3.2.2 dill-0.3.8 grapheme-0.6.0 pymoo-0.6.1.1\n"
          ]
        }
      ],
      "source": [
        "pip install -U pymoo"
      ]
    },
    {
      "cell_type": "code",
      "execution_count": null,
      "metadata": {
        "id": "5ZC7DUn4jheL"
      },
      "outputs": [],
      "source": [
        "from pymoo.problems import get_problem\n",
        "from pymoo.util.ref_dirs import get_reference_directions\n",
        "\n",
        "from pymoo.indicators.igd_plus import IGDPlus\n",
        "from pymoo.indicators.igd import IGD\n",
        "from pymoo.indicators.hv import HV\n",
        "\n",
        "from IPython.display import clear_output\n",
        "from mpl_toolkits.mplot3d import axes3d\n",
        "from pandas.plotting import parallel_coordinates\n",
        "\n",
        "\n",
        "import numpy as np\n",
        "import pandas as pd\n",
        "import matplotlib.pyplot as plt\n",
        "import time\n",
        "\n",
        "from time import sleep"
      ]
    },
    {
      "cell_type": "markdown",
      "metadata": {
        "id": "b6OWvVeONnIs"
      },
      "source": [
        "#### Plot Functions"
      ]
    },
    {
      "cell_type": "code",
      "execution_count": null,
      "metadata": {
        "id": "Q-ULh9N6NpBm"
      },
      "outputs": [],
      "source": [
        "# Plot the points in 3 dimensions.\n",
        "def plot_3d(points, title):\n",
        "    x, y, z = zip(*points)\n",
        "    fig = plt.figure(figsize=(2,2))\n",
        "    ax = fig.add_subplot(111, projection='3d')\n",
        "    ax.scatter(x,y,z)\n",
        "    ax.set_xlabel(\"f1\")\n",
        "    ax.set_ylabel(\"f2\")\n",
        "    ax.set_zlabel(\"f3\")\n",
        "    ax.set_title(title)\n",
        "    ax.view_init(45, 45, 0)\n",
        "    plt.show()\n",
        "\n",
        "# Plot the points in 3 dimensions.\n",
        "def plot_2d(points, title):\n",
        "    x, y = zip(*points)\n",
        "    fig = plt.figure(figsize=(2,2))\n",
        "    ax = fig.add_subplot(111)\n",
        "    ax.scatter(x,y)\n",
        "    ax.set_xlabel(\"f1\")\n",
        "    ax.set_ylabel(\"f2\")\n",
        "    ax.set_title(title)\n",
        "    plt.show()\n",
        "\n",
        "# Plot the parallel coordinates.\n",
        "def parallel_plot(points,title):\n",
        "    final_evals_df = pd.DataFrame(points)\n",
        "    final_evals_df['Color'] = 1\n",
        "    plt.figure(figsize=(4, 2))\n",
        "    parallel_coordinates(final_evals_df,'Color', colormap='viridis', linewidth=1)\n",
        "    plt.title(title)\n",
        "    plt.xlabel('Objective')\n",
        "    plt.ylabel('Evaluation')\n",
        "    plt.show()"
      ]
    },
    {
      "cell_type": "markdown",
      "metadata": {
        "id": "Ngk4LGjrjUBW"
      },
      "source": [
        "#### Generate Initial Population"
      ]
    },
    {
      "cell_type": "code",
      "execution_count": null,
      "metadata": {
        "id": "GNlAh0A-jTL1"
      },
      "outputs": [],
      "source": [
        "def initial_solutions(problem, n_initial, n_vars):\n",
        "    mop_data = mop_data_func(n_vars, problem)\n",
        "    init_sols = np.zeros((n_initial,n_vars))\n",
        "    for i in range(n_initial):\n",
        "        init_sols[i] = random_solution(mop_data)\n",
        "    return init_sols"
      ]
    },
    {
      "cell_type": "markdown",
      "metadata": {
        "id": "LHMP8xcDlIm9"
      },
      "source": [
        "#### Evaluate Population"
      ]
    },
    {
      "cell_type": "code",
      "execution_count": null,
      "metadata": {
        "id": "7ws8MfKnlFpW"
      },
      "outputs": [],
      "source": [
        "def evaluate_function(problem, sols_to_eval, n_funcs, n_vars, inverted_flag):\n",
        "    if (\"DTLZ\" in problem):\n",
        "        ref_dirs = get_reference_directions(\"das-dennis\", n_funcs, n_partitions=12)\n",
        "        problem_pymoo = get_problem(problem, n_var=n_vars, n_obj=n_funcs)\n",
        "        evaluations = problem_pymoo.evaluate(sols_to_eval)\n",
        "    elif (\"WFG\" in problem):\n",
        "        k_var = ( n_funcs - 1 ) * 2\n",
        "        if n_funcs < 3:\n",
        "            k_var = 4\n",
        "        ref_dirs = get_reference_directions(\"das-dennis\", n_funcs, n_partitions=12)\n",
        "        problem_pymoo = get_problem(problem, n_var=n_vars, n_obj=n_funcs, k=k_var)\n",
        "        evaluations = problem_pymoo.evaluate(sols_to_eval)\n",
        "    else:\n",
        "        evaluations = evaluate_solutions(sols_to_eval, n_funcs, problem, n_vars)\n",
        "    if (inverted_flag):\n",
        "        evaluations = -1 * evaluations\n",
        "    return evaluations"
      ]
    },
    {
      "cell_type": "markdown",
      "metadata": {
        "id": "xInGUFaFlDJX"
      },
      "source": [
        "#### Rank Population"
      ]
    },
    {
      "cell_type": "markdown",
      "metadata": {
        "id": "u6QFBdHGDGgq"
      },
      "source": [
        "Normalize"
      ]
    },
    {
      "cell_type": "code",
      "execution_count": null,
      "metadata": {
        "id": "16_hiGdFDH9n"
      },
      "outputs": [],
      "source": [
        "def nadir_func(matrix):\n",
        "    num_cols = len(matrix[0])\n",
        "    max_vals = [-float('inf')] * num_cols\n",
        "    for col_idx in range(num_cols):\n",
        "        for row_idx in range(len(matrix)):\n",
        "            if matrix[row_idx][col_idx] > max_vals[col_idx]:\n",
        "                max_vals[col_idx] = matrix[row_idx][col_idx]\n",
        "    return max_vals\n",
        "\n",
        "def ideal_func(matrix):\n",
        "    num_cols = len(matrix[0])\n",
        "    min_vals = [float('inf')] * num_cols\n",
        "    for col_idx in range(num_cols):\n",
        "        for row_idx in range(len(matrix)):\n",
        "            if matrix[row_idx][col_idx] < min_vals[col_idx]:\n",
        "                min_vals[col_idx] = matrix[row_idx][col_idx]\n",
        "    return min_vals\n",
        "\n",
        "def normalize(archive, ideal, nadir):\n",
        "    normalized_archive = archive.copy()\n",
        "    n_funcs = archive.shape[1]\n",
        "    count = 0\n",
        "    for p in archive:\n",
        "        for i in range(n_funcs):\n",
        "            if nadir[i] == ideal[i]:\n",
        "                a = (p[i]-ideal[i])/(0.000001)\n",
        "            else:\n",
        "                a = (p[i]-ideal[i])/(nadir[i]-ideal[i])\n",
        "            normalized_archive[count,i] = a\n",
        "        count = count + 1\n",
        "    return normalized_archive\n",
        "\n",
        "\n",
        "def threshold_of_every_variable(std_threshold, n_vars, problem):\n",
        "    mop_data = mop_data_func(n_vars, problem)\n",
        "    lower = []\n",
        "    upper = []\n",
        "    variable_threshold = []\n",
        "\n",
        "    for i in range(n_vars):\n",
        "        lower.append(mop_data[i*2])\n",
        "        upper.append(mop_data[i*2 + 1])\n",
        "\n",
        "    for i in range(n_vars):\n",
        "        variable_threshold.append((upper[i] - lower[i]) * std_threshold)\n",
        "\n",
        "    return variable_threshold"
      ]
    },
    {
      "cell_type": "markdown",
      "metadata": {
        "id": "A7gwFDt4EAob"
      },
      "source": [
        "Weights (ACOR)"
      ]
    },
    {
      "cell_type": "code",
      "execution_count": null,
      "metadata": {
        "id": "7_Ywg-olECk-"
      },
      "outputs": [],
      "source": [
        "# Not in ACOR\n",
        "def normalize_array_from1_to50(arr):\n",
        "    min_val = min(arr)\n",
        "    max_val = max(arr)\n",
        "    normalized_array = [1 + ((x - min_val) / (max_val - min_val)) * 49 for x in arr]\n",
        "    return normalized_array\n",
        "\n",
        "# As in ACOR\n",
        "def selection_weights(q, k):\n",
        "    ranking_array = np.empty([1])\n",
        "    array_to_normalize = list(range(1, k+1))\n",
        "    normalized_array = normalize_array_from1_to50(array_to_normalize)\n",
        "    part1 = 1 / ( q * 50 * ( 2 * np.pi) ** 0.5)\n",
        "    for i in normalized_array:\n",
        "        part2 = np.exp( - ( ((i)**2) / (2 * q**2 * k**2) ) )\n",
        "        weight = part1*part2\n",
        "        ranking_array = np.vstack((ranking_array,weight))\n",
        "    ranking_array = np.delete(ranking_array,0,0)\n",
        "    return ranking_array"
      ]
    },
    {
      "cell_type": "markdown",
      "metadata": {
        "id": "FfRr59jiFCPO"
      },
      "source": [
        "Non Domination Ranking"
      ]
    },
    {
      "cell_type": "code",
      "execution_count": null,
      "metadata": {
        "id": "tKpEN_1HFFfH"
      },
      "outputs": [],
      "source": [
        "def dominates(point, points):\n",
        "    index = np.where(np.all(point == points,axis=1))[0]\n",
        "    points = np.delete(points,index,0)\n",
        "    non_dominated = np.any(np.all(points <= point, axis=1))\n",
        "    return not non_dominated\n",
        "\n",
        "def non_dominated_solutions_func(archive, n_vars, n_funcs):\n",
        "    size = archive.shape[1]\n",
        "    non_dominated_solutions = np.empty([size])\n",
        "    for solution in archive:\n",
        "        if (dominates(solution[n_vars:n_funcs+n_vars],archive[:,n_vars:n_funcs+n_vars])):\n",
        "            non_dominated_solutions = np.vstack((non_dominated_solutions,solution))\n",
        "    non_dominated_solutions = np.delete(non_dominated_solutions,0,0)\n",
        "    return non_dominated_solutions\n",
        "\n",
        "def layered_array(solutions, evaluations, n_vars, n_funcs, n_initial):\n",
        "    archive = np.concatenate((solutions, evaluations), axis=1)\n",
        "    layers = np.empty([1])\n",
        "    result_array = archive\n",
        "    archive = np.empty([archive.shape[1]])\n",
        "    layer = 1\n",
        "\n",
        "    while layers.shape[0] < n_initial+1:\n",
        "        layer_solutions = non_dominated_solutions_func(result_array,n_vars,n_funcs)\n",
        "        mask = np.isin(result_array,layer_solutions)\n",
        "        result_array = result_array[~np.all(mask, axis=1)]\n",
        "        archive = np.vstack((archive,layer_solutions))\n",
        "        for i in range(len(layer_solutions)):\n",
        "            layers = np.vstack((layers,layer))\n",
        "        layer = layer + 1\n",
        "\n",
        "        if result_array.shape[0] == 0:\n",
        "            break\n",
        "\n",
        "    layers = np.delete(layers,0,0)\n",
        "    archive = np.delete(archive,0,0)\n",
        "    solutions = archive[:,:n_vars]\n",
        "    evaluations = archive[:,n_vars:n_funcs+n_vars]\n",
        "    return solutions, evaluations, layers"
      ]
    },
    {
      "cell_type": "markdown",
      "metadata": {
        "id": "xxPZLzqSLLqw"
      },
      "source": [
        "IGD Sorting / Pair Potential Sorting.\n",
        "I am using pair potential sorting."
      ]
    },
    {
      "cell_type": "code",
      "execution_count": null,
      "metadata": {
        "id": "VjbnoHAvwSCi"
      },
      "outputs": [],
      "source": [
        "def igd_plus_contributions_heuristic(A, i, ind, indicator_A):\n",
        "    A_no_a = np.delete(A,i, axis=0)\n",
        "    contribution =  indicator_A - ind(A_no_a)\n",
        "    #contribution =  ind(A_no_a)\n",
        "    return contribution\n",
        "\n",
        "def inclusion_IGD_plus(A, keep_k, n_funcs, ind):\n",
        "    sorted_norm_evals = np.zeros((keep_k,n_funcs))\n",
        "    for j in range(keep_k):\n",
        "        contribution = []\n",
        "        indicator_A = ind(A)\n",
        "        for i in range(A.shape[0]):\n",
        "            contrib = igd_plus_contributions_heuristic(A, i, ind, indicator_A)\n",
        "            contribution.append(contrib)\n",
        "        index = np.where(contribution == min(contribution))[0]\n",
        "        sorted_norm_evals[j] = A[index[0]]\n",
        "        A = np.delete(A,index[0],0)\n",
        "    return sorted_norm_evals\n",
        "\n",
        "# Using the Pair Potential Functions To Sort.\n",
        "def PPF_sorting(solutions, evaluations, layers, NDS, n_initial, n_vars, n_funcs):\n",
        "    NDS_evaluations = NDS[:,n_vars:n_funcs+n_vars]\n",
        "    total_evaluations = np.concatenate((evaluations, NDS_evaluations))\n",
        "    ideal = ideal_func(total_evaluations)\n",
        "    nadir = nadir_func(total_evaluations)\n",
        "    norm_evals = normalize(evaluations, ideal, nadir)\n",
        "    ref_set = normalize(NDS_evaluations, ideal, nadir)\n",
        "    ref_set = ref_set - 0.2\n",
        "\n",
        "    ind = IGDPlus(ref_set)\n",
        "\n",
        "    archive = np.concatenate((solutions, evaluations),axis=1)\n",
        "    archive = np.concatenate((archive, norm_evals),axis=1)\n",
        "\n",
        "    all_sorted_norm_evals = np.zeros((n_initial,n_funcs))\n",
        "\n",
        "    counts = np.bincount(layers.flatten().astype(int))\n",
        "    counts = np.delete(counts,0)\n",
        "    #print('Layer count: ', counts)\n",
        "\n",
        "    counter = 0\n",
        "    for layer_count in counts:\n",
        "        layer_norm_evals = norm_evals[counter:counter+layer_count,:]\n",
        "        if (counter + layer_count > n_initial):\n",
        "            layer_count = n_initial - counter\n",
        "        sorted_norm_evals = fastGreedyInclusionAlgorithm(layer_norm_evals, layer_count, 'RSE')\n",
        "        all_sorted_norm_evals[counter:counter+layer_count] = sorted_norm_evals\n",
        "        counter = counter + layer_count\n",
        "\n",
        "    archive = keep_rows_in_subset_for_normal(archive, all_sorted_norm_evals)\n",
        "    solutions = archive[:,:n_vars]\n",
        "    evaluations = archive[:,n_vars:n_funcs+n_vars]\n",
        "\n",
        "    return solutions, evaluations"
      ]
    },
    {
      "cell_type": "markdown",
      "metadata": {
        "id": "34pMikqiLV2i"
      },
      "source": [
        "#### Select Elements to Modify"
      ]
    },
    {
      "cell_type": "code",
      "execution_count": null,
      "metadata": {
        "id": "jTfc0WWOLZNK"
      },
      "outputs": [],
      "source": [
        "def chooseSolution(archive, weights, sumatory, n_sols):\n",
        "    rand = np.random.uniform() * sumatory\n",
        "    sumatory = 0\n",
        "    for y in range(n_sols):\n",
        "        sumatory = weights[y] + sumatory\n",
        "        if (sumatory > rand):\n",
        "            chosen_sol = archive[y]\n",
        "            break\n",
        "    return chosen_sol\n",
        "\n",
        "def obtain_solutions_to_modify(solutions, weights, n_vars):\n",
        "    n_sols = solutions.shape[0]\n",
        "    sumatory = np.sum(weights)\n",
        "\n",
        "    sols_to_modify = np.zeros((n_sols, n_vars))\n",
        "    for i in range(n_sols):\n",
        "        sols_to_modify[i] = chooseSolution(solutions, weights, sumatory, n_sols)\n",
        "    return sols_to_modify"
      ]
    },
    {
      "cell_type": "markdown",
      "metadata": {
        "id": "YOWj4IrwZRUG"
      },
      "source": [
        "#### Smart Selection"
      ]
    },
    {
      "cell_type": "code",
      "execution_count": null,
      "metadata": {
        "id": "LwoxlAeYZUb3"
      },
      "outputs": [],
      "source": [
        "def inteligent_select_dim_std(problem, solutions, n_vars, variable_threshold):\n",
        "    choices = []\n",
        "    stalled = []\n",
        "    std_archive = np.std(pd.DataFrame(solutions))\n",
        "    for i in range(n_vars):\n",
        "        if (std_archive[i]) >= variable_threshold[i]:\n",
        "            choices.append(i)\n",
        "        else:\n",
        "            stalled.append(i)\n",
        "    return choices, stalled\n",
        "\n",
        "\n",
        "def number_of_vars_to_modify(choices, n_initial, n_funcs):\n",
        "    max_vars = len(choices)\n",
        "    random_ints = []\n",
        "    for _ in range(n_funcs):\n",
        "        random_int = np.random.randint(max_vars, size=n_initial)\n",
        "        random_ints.append(random_int)\n",
        "\n",
        "    number_to_modify = np.min(random_ints, axis=0)\n",
        "    number_to_modify = number_to_modify + 1\n",
        "    return number_to_modify\n",
        "\n",
        "\n",
        "def vars_to_modify_func(choices, n_initial, number_to_modify):\n",
        "    modify_variables = []\n",
        "    for i in range(n_initial):\n",
        "        spec_vars = np.random.choice(choices, size=number_to_modify[i], replace=False)\n",
        "        modify_variables.append(spec_vars)\n",
        "    return modify_variables"
      ]
    },
    {
      "cell_type": "markdown",
      "metadata": {
        "id": "QeXlFV3m3fAA"
      },
      "source": [
        "#### Modify Solutions (ACOR)"
      ]
    },
    {
      "cell_type": "code",
      "execution_count": null,
      "metadata": {
        "id": "kp_p_Fn83ik1"
      },
      "outputs": [],
      "source": [
        "def std_matrix_func(solutions, solutions_to_modify, modify_variables, n_initial, n_vars, epsilon):\n",
        "    std_matrix = np.zeros((n_initial, n_vars))\n",
        "    for i in range(n_initial):\n",
        "        for dimension in modify_variables[i]:\n",
        "            sumatory = 0\n",
        "            for j in range(n_initial):\n",
        "                sumatory = sumatory + np.absolute((solutions_to_modify[i,dimension] - solutions[j,dimension]))\n",
        "            std_matrix[i,dimension] = sumatory\n",
        "    std_matrix = std_matrix * epsilon / (n_initial - 1)\n",
        "    return std_matrix\n",
        "\n",
        "def replace_out_of_range_variable(solutions, lower, upper):\n",
        "    for i, (low, high) in enumerate(zip(lower, upper)):\n",
        "        lower_mask = solutions[:, i] < low\n",
        "        upper_mask = solutions[:, i] > high\n",
        "        solutions[lower_mask, i] = np.random.uniform(low, high, np.count_nonzero(lower_mask))\n",
        "        solutions[upper_mask, i] = np.random.uniform(low, high, np.count_nonzero(upper_mask))\n",
        "    return solutions\n",
        "\n",
        "def new_solutions_func(solutions_to_modify, std_matrix, n_initial, n_vars):\n",
        "    mop_data = mop_data_func(n_vars, problem)\n",
        "    lower = []\n",
        "    upper = []\n",
        "    for i in range(n_vars):\n",
        "        lower.append(mop_data[i*2])\n",
        "        upper.append(mop_data[i*2 + 1])\n",
        "\n",
        "    new_solutions = np.zeros((n_initial, n_vars))\n",
        "    for i in range(n_initial):\n",
        "        for j in range(n_vars):\n",
        "            if std_matrix[i,j] > 0:\n",
        "                new_solutions[i,j] = np.random.normal(solutions_to_modify[i,j], std_matrix[i,j])\n",
        "            else:\n",
        "                new_solutions[i,j] = solutions_to_modify[i,j]\n",
        "\n",
        "    new_solutions = np.clip(new_solutions, a_min = lower, a_max = upper)\n",
        "    return new_solutions"
      ]
    },
    {
      "cell_type": "markdown",
      "metadata": {
        "id": "r270PaUuQFSL"
      },
      "source": [
        "#### Update Non Dominated Solutions"
      ]
    },
    {
      "cell_type": "code",
      "execution_count": null,
      "metadata": {
        "id": "wIkhG405QJ6n"
      },
      "outputs": [],
      "source": [
        "def keep_rows_in_subset(original_array, subset_array):\n",
        "    result_indices = []\n",
        "    for i in range(subset_array.shape[0]):\n",
        "        current_row = subset_array[i]\n",
        "        matches = np.all(original_array[:,n_vars:n_funcs+n_vars] == current_row, axis=1)\n",
        "        matching_index = np.where(matches)[0]\n",
        "        if matching_index.size > 0:\n",
        "            result_indices.append(matching_index[0])\n",
        "    result_array = original_array[result_indices]\n",
        "    return result_array\n",
        "\n",
        "def keep_rows_in_subset_for_normal(original_array, subset_array):\n",
        "    result_indices = []\n",
        "    for i in range(subset_array.shape[0]):\n",
        "        current_row = subset_array[i]\n",
        "        matches = np.all(original_array[:,n_funcs+n_vars:2*n_funcs+n_vars] == current_row, axis=1)\n",
        "        matching_index = np.where(matches)[0]\n",
        "        if matching_index.size > 0:\n",
        "            result_indices.append(matching_index[0])\n",
        "    result_array = original_array[result_indices]\n",
        "    return result_array\n",
        "\n",
        "def reduce_non_dominated(non_dominated_solutions, n_vars, n_funcs, final_size, pair_potential_function):\n",
        "    total_non_dominated_final_evals = non_dominated_solutions[:, n_vars:n_funcs+n_vars]\n",
        "    if total_non_dominated_final_evals.shape[0] >= final_size:\n",
        "        A = fastGreedyInclusionAlgorithm(total_non_dominated_final_evals, final_size, pair_potential_function)\n",
        "        reduced_non_dominated_solutions = keep_rows_in_subset(non_dominated_solutions, A)\n",
        "    else:\n",
        "        reduced_non_dominated_solutions = non_dominated_solutions\n",
        "    return reduced_non_dominated_solutions\n",
        "\n",
        "def initial_non_dominated(solutions, evaluations, n_vars, n_funcs, final_size, pair_potential_function):\n",
        "    archive = np.concatenate((solutions, evaluations), axis=1)\n",
        "    non_dominated_sols = non_dominated_solutions_func(archive, n_vars, n_funcs)\n",
        "    non_dominated_sols = reduce_non_dominated(non_dominated_sols, n_vars, n_funcs, final_size, pair_potential_function)\n",
        "    return non_dominated_sols\n",
        "\n",
        "def update_non_dominated(NDS, solutions, evaluations, n_vars, n_funcs, final_size, pair_potential_function):\n",
        "    nds_solutions = NDS[:,:n_vars]\n",
        "    nds_evaluations = NDS[:,n_vars:n_funcs+n_vars]\n",
        "    total_solutions = np.concatenate((nds_solutions, solutions))\n",
        "    total_evaluations = np.concatenate((nds_evaluations, evaluations))\n",
        "    archive = np.concatenate((total_solutions, total_evaluations), axis=1)\n",
        "    archive = archive = np.unique(archive, axis=0)\n",
        "    non_dominated_sols = non_dominated_solutions_func(archive, n_vars, n_funcs)\n",
        "    non_dominated_sols = reduce_non_dominated(non_dominated_sols, n_vars, n_funcs, final_size, pair_potential_function)\n",
        "    return non_dominated_sols"
      ]
    },
    {
      "cell_type": "markdown",
      "metadata": {
        "id": "Iini2DUt8MBh"
      },
      "source": [
        "#### Replace Mechanism"
      ]
    },
    {
      "cell_type": "code",
      "execution_count": null,
      "metadata": {
        "id": "HSyI8TrA8OGw"
      },
      "outputs": [],
      "source": [
        "# Quant to mutate is allways one.\n",
        "def new_replace_mechanism(choices, non_dominated_solutions, n_vars, n_funcs, k, replace_param, problem, inverted_flag):\n",
        "    mop_data = mop_data_func(n_vars, problem)\n",
        "    total_non_dominated_final_evals = non_dominated_solutions[:,n_vars:n_funcs+n_vars]\n",
        "    size = total_non_dominated_final_evals.shape[0]\n",
        "    if  size >= k:\n",
        "        A = fastGreedyInclusionAlgorithm(total_non_dominated_final_evals,k, 'RSE')\n",
        "        new_rep_sols = keep_rows_in_subset(non_dominated_solutions,A)[:,0:n_vars]\n",
        "    else:\n",
        "        A = total_non_dominated_final_evals\n",
        "        new_rep_sols = keep_rows_in_subset(non_dominated_solutions,A)[:,0:n_vars]\n",
        "        left = k - size\n",
        "        new_sols = np.empty([n_vars])\n",
        "        for i in range(left):\n",
        "            np.random.shuffle(new_rep_sols)\n",
        "            new_sol = new_rep_sols[0]\n",
        "            new_sols = np.vstack((new_sols,new_sol))\n",
        "        new_sols = np.delete(new_sols,0,0)\n",
        "        new_rep_sols = np.vstack((new_rep_sols,new_sols))\n",
        "\n",
        "    quant_to_mutate = 1\n",
        "\n",
        "    dim = np.random.choice(choices, size=quant_to_mutate, replace=False)\n",
        "    np.random.shuffle(new_rep_sols)\n",
        "    for i in range(int(k*replace_param)):\n",
        "        for dimension in dim:\n",
        "            new_rep_sols[i][dimension] = np.random.uniform(mop_data[dimension*2],mop_data[dimension*2+1])\n",
        "\n",
        "    solutions = new_rep_sols\n",
        "    evaluations = evaluate_function(problem, solutions, n_funcs, n_vars, inverted_flag)\n",
        "    return solutions, evaluations"
      ]
    },
    {
      "cell_type": "markdown",
      "metadata": {
        "id": "oN0WyoeAjaAI"
      },
      "source": [
        "# New MOACOR"
      ]
    },
    {
      "cell_type": "code",
      "execution_count": null,
      "metadata": {
        "colab": {
          "base_uri": "https://localhost:8080/",
          "height": 316
        },
        "id": "tN1TvT6YjzLI",
        "outputId": "680bbb84-b415-4789-ad23-f3df833dc950"
      },
      "outputs": [
        {
          "output_type": "stream",
          "name": "stdout",
          "text": [
            "All good to start, validation complete\n",
            "Total experiments:  1\n",
            "Experiment Completed:  1\n",
            "Elapsed time:  94.08059668540955\n",
            "HV 0.9688768416076485\n"
          ]
        },
        {
          "output_type": "display_data",
          "data": {
            "text/plain": [
              "<Figure size 200x200 with 1 Axes>"
            ],
            "image/png": "[encoded data removed]"
          },
          "metadata": {}
        }
      ],
      "source": [
        "seed_arr = [1]\n",
        "for seed in seed_arr:\n",
        "\n",
        "    # This is for 2 objectives.\n",
        "    n_funcs = 3\n",
        "    total_evals = 50000\n",
        "    n_final = 120\n",
        "\n",
        "    problem_arr = [\"DTLZ1\"]\n",
        "\n",
        "    inverted_flag_arr = [False]\n",
        "\n",
        "    n_vars_arr = [7]\n",
        "\n",
        "    ref_points = [[1,1,1]]\n",
        "\n",
        "    '''\n",
        "    # This is for 2 objectives.\n",
        "    n_funcs = 2\n",
        "    total_evals = 40000\n",
        "    n_final = 120\n",
        "\n",
        "    problem_arr = [\"DTLZ1\",\"DTLZ2\",\"DTLZ3\",\"DTLZ4\",\"DTLZ5\",\"DTLZ6\",\"DTLZ7\",\n",
        "                  \"DTLZ1\",\"DTLZ2\",\"DTLZ3\",\"DTLZ4\",\"DTLZ5\",\"DTLZ6\",\"DTLZ7\",\n",
        "                  \"IMOP1\",\"IMOP2\",\"IMOP3\",\n",
        "                  \"WFG1\",\"WFG2\",\"WFG3\",\"WFG4\",\"WFG5\",\"WFG6\",\"WFG7\",\"WFG8\",\"WFG9\",\n",
        "                  \"WFG1\",\"WFG2\",\"WFG3\",\"WFG4\",\"WFG5\",\"WFG6\",\"WFG7\",\"WFG8\",\"WFG9\"]\n",
        "\n",
        "    inverted_flag_arr = [False,False,False,False,False,False,False,\n",
        "                        True,True,True,True,True,True,True,\n",
        "                        False,False,False,\n",
        "                        False,False,False,False,False,False,False,False,False,\n",
        "                        True,True,True,True,True,True,True,True,True]\n",
        "\n",
        "    n_vars_arr = [6,11,11,11,11,11,21,\n",
        "                  6,11,11,11,11,11,21,\n",
        "                  10,10,10,\n",
        "                  24,24,24,24,24,24,24,24,24,\n",
        "                  24,24,24,24,24,24,24,24,24]\n",
        "\n",
        "    ref_points = [[1,1],[2,2],[2,2],[2,2],[2,2],[2,2],[1,21],\n",
        "                 [1,1],[1,1],[1,1],[1,1],[1,1],[1,1],[0.1,-10],\n",
        "                 [1.2,1.2],[1.2,1.2],[1.5,1.2],\n",
        "                 [3,5],[3,5],[3,5],[3,5],[3,5],[3,5],[3,5],[3,5],[3,5],\n",
        "                 [1,1],[1,1],[1,1],[1,1],[1,1],[1,1],[1,1],[1,1],[1,1]]\n",
        "    '''\n",
        "\n",
        "    '''\n",
        "    # This is for 3 objectives.\n",
        "    n_funcs = 3\n",
        "    total_evals = 50000\n",
        "    n_final = 120\n",
        "\n",
        "    problem_arr = [\"DTLZ1\",\"DTLZ2\",\"DTLZ3\",\"DTLZ4\",\"DTLZ5\",\"DTLZ6\",\"DTLZ7\",\n",
        "                  \"DTLZ1\",\"DTLZ2\",\"DTLZ3\",\"DTLZ4\",\"DTLZ5\",\"DTLZ6\",\"DTLZ7\",\n",
        "                  \"IMOP4\",\"IMOP5\",\"IMOP6\",\"IMOP7\",\"IMOP8\",\n",
        "                  \"WFG1\",\"WFG2\",\"WFG3\",\"WFG4\",\"WFG5\",\"WFG6\",\"WFG7\",\"WFG8\",\"WFG9\",\n",
        "                  \"WFG1\",\"WFG2\",\"WFG3\",\"WFG4\",\"WFG5\",\"WFG6\",\"WFG7\",\"WFG8\",\"WFG9\",\n",
        "                  \"VIE1\",\"VIE2\",\"VIE3\"]\n",
        "\n",
        "    inverted_flag_arr = [False,False,False,False,False,False,False,\n",
        "                        True,True,True,True,True,True,True,\n",
        "                        False,False,False,False,False,\n",
        "                        False,False,False,False,False,False,False,False,False,\n",
        "                        True,True,True,True,True,True,True,True,True,\n",
        "                        False,False,False]\n",
        "\n",
        "    n_vars_arr = [7,12,12,12,12,12,22,\n",
        "                  7,12,12,12,12,12,22,\n",
        "                  10,10,10,10,10,\n",
        "                  26,26,26,26,26,26,26,26,26,\n",
        "                  26,26,26,26,26,26,26,26,26,\n",
        "                  2,2,2]\n",
        "\n",
        "    ref_points = [[1,1,1],[2,2,2],[2,2,2],[2,2,2],[2,2,2],[2,2,2],[1,1,21],\n",
        "                 [1,1,1],[1,1,1],[1,1,1],[1,1,1],[1,1,1],[1,1,1],[0.1,0.1,-10],\n",
        "                 [1.2,1.2,1.2],[1,1,2],[1.2,1.2,1.2],[1.2,1.2,1.2],[1.2,1.2,3.2],\n",
        "                 [3,5,7],[3,5,7],[3,5,7],[3,5,7],[3,5,7],[3,5,7],[3,5,7],[3,5,7],[3,5,7],\n",
        "                 [1,1,1],[1,1,1],[1,1,1],[1,1,1],[1,1,1],[1,1,1],[1,1,1],[1,1,1],[1,1,1],\n",
        "                 [4,5,4],[5,-15,-11],[10,18,1]]\n",
        "    '''\n",
        "\n",
        "    '''\n",
        "    # This is for 5 objectives.\n",
        "    n_funcs = 5\n",
        "    total_evals = 70000\n",
        "    n_final = 126\n",
        "\n",
        "    problem_arr = [\"DTLZ1\",\"DTLZ2\",\"DTLZ3\",\"DTLZ4\",\"DTLZ5\",\"DTLZ6\",\"DTLZ7\",\n",
        "                  \"DTLZ1\",\"DTLZ2\",\"DTLZ3\",\"DTLZ4\",\"DTLZ5\",\"DTLZ6\",\"DTLZ7\",\n",
        "                  \"WFG1\",\"WFG2\",\"WFG3\",\"WFG4\",\"WFG5\",\"WFG6\",\"WFG7\",\"WFG8\",\"WFG9\",\n",
        "                  \"WFG1\",\"WFG2\",\"WFG3\",\"WFG4\",\"WFG5\",\"WFG6\",\"WFG7\",\"WFG8\",\"WFG9\"]\n",
        "\n",
        "    inverted_flag_arr = [False,False,False,False,False,False,False,\n",
        "                        True,True,True,True,True,True,True,\n",
        "                        False,False,False,False,False,False,False,False,False,\n",
        "                        True,True,True,True,True,True,True,True,True]\n",
        "\n",
        "    n_vars_arr = [9,14,14,14,14,14,24,\n",
        "                  9,14,14,14,14,14,24,\n",
        "                  30,30,30,30,30,30,30,30,30,\n",
        "                  30,30,30,30,30,30,30,30,30]\n",
        "\n",
        "    ref_points = [[1,1,1,1,1],[2,2,2,2,2],[2,2,2,2,2],[2,2,2,2,2],[2,2,2,2,2],[2,2,2,2,2],[1,1,1,1,21],\n",
        "                 [1,1,1,1,1],[1,1,1,1,1],[1,1,1,1,1],[1,1,1,1,1],[1,1,1,1,1],[1,1,1,1,1],[0.1,0.1,0.1,0.1,-10],\n",
        "                 [3,5,7,9,11],[3,5,7,9,11],[3,5,7,9,11],[3,5,7,9,11],[3,5,7,9,11],[3,5,7,9,11],[3,5,7,9,11],[3,5,7,9,11],[3,5,7,9,11],\n",
        "                 [1,1,1,1,1],[1,1,1,1,1],[1,1,1,1,1],[1,1,1,1,1],[1,1,1,1,1],[1,1,1,1,1],[1,1,1,1,1],[1,1,1,1,1],[1,1,1,1,1]]\n",
        "    '''\n",
        "\n",
        "    '''\n",
        "    # This is for 7 objectives.\n",
        "    n_funcs = 7\n",
        "    total_evals = 90000\n",
        "    n_final = 210\n",
        "\n",
        "    problem_arr = [\"DTLZ1\",\"DTLZ2\",\"DTLZ3\",\"DTLZ4\",\"DTLZ5\",\"DTLZ6\",\"DTLZ7\",\n",
        "                  \"DTLZ1\",\"DTLZ2\",\"DTLZ3\",\"DTLZ4\",\"DTLZ5\",\"DTLZ6\",\"DTLZ7\",\n",
        "                  \"WFG1\",\"WFG2\",\"WFG3\",\"WFG4\",\"WFG5\",\"WFG6\",\"WFG7\",\"WFG8\",\"WFG9\",\n",
        "                  \"WFG1\",\"WFG2\",\"WFG3\",\"WFG4\",\"WFG5\",\"WFG6\",\"WFG7\",\"WFG8\",\"WFG9\"]\n",
        "\n",
        "    inverted_flag_arr = [False,False,False,False,False,False,False,\n",
        "                        True,True,True,True,True,True,True,\n",
        "                        False,False,False,False,False,False,False,False,False,\n",
        "                        True,True,True,True,True,True,True,True,True]\n",
        "\n",
        "    n_vars_arr = [11,16,16,16,16,16,26,\n",
        "                  11,16,16,16,16,16,26,\n",
        "                  34,34,34,34,34,34,34,34,34,\n",
        "                  34,34,34,34,34,34,34,34,34]\n",
        "    '''\n",
        "\n",
        "\n",
        "    if len(problem_arr) == len(n_vars_arr) and len(problem_arr) == len(inverted_flag_arr):\n",
        "        print('All good to start, validation complete')\n",
        "\n",
        "    total_different_experiments = len(problem_arr)\n",
        "    print('Total experiments: ', total_different_experiments)\n",
        "\n",
        "\n",
        "    for current in range(total_different_experiments):\n",
        "\n",
        "        current = current\n",
        "\n",
        "        # Problem Variables.\n",
        "        problem = problem_arr[current]\n",
        "        inverted_flag = inverted_flag_arr[current]\n",
        "        n_vars = n_vars_arr[current]\n",
        "\n",
        "        ind_main = HV(ref_point=ref_points[current])\n",
        "\n",
        "        # Algorithm Variables.\n",
        "        n_initial = int(n_final/4)\n",
        "        epsilon = 1.8\n",
        "        q = 0.5\n",
        "        nds_max = n_final * 3\n",
        "        std_threshold = 0.1\n",
        "        replace_tw = 4\n",
        "        replace_pct = 0.5\n",
        "        # MUST BE TRUE\n",
        "        replace_flag = True\n",
        "\n",
        "        pair_potential_function = 'COU'\n",
        "\n",
        "        start_time = time.time()\n",
        "        np.random.seed(seed)\n",
        "\n",
        "        variable_threshold = threshold_of_every_variable(std_threshold, n_vars, problem)\n",
        "        file_to_save = np.empty([n_vars + n_funcs + 1])\n",
        "        solutions = initial_solutions(problem, n_initial, n_vars)\n",
        "        evaluations = evaluate_function(problem, solutions, n_funcs, n_vars, inverted_flag)\n",
        "\n",
        "        solutions, evaluations, layers = layered_array(solutions, evaluations, n_vars, n_funcs, n_initial)\n",
        "        weights = selection_weights(q,n_initial)\n",
        "        NDS = initial_non_dominated(solutions, evaluations, n_vars, n_funcs, nds_max, pair_potential_function)\n",
        "\n",
        "        solutions, evaluations = PPF_sorting(solutions, evaluations, layers, NDS, n_initial, n_vars, n_funcs)\n",
        "\n",
        "        fn_evals = n_initial\n",
        "        gen = 1\n",
        "\n",
        "        # Stack the output at the moment to the final archive that will be uploaded.\n",
        "        output_at_the_moment = update_non_dominated(NDS, solutions, evaluations, n_vars, n_funcs, n_final, pair_potential_function)\n",
        "        generation_array = np.zeros((output_at_the_moment.shape[0],1))\n",
        "        for i in range(output_at_the_moment.shape[0]):\n",
        "            generation_array[i] = fn_evals\n",
        "        generation_to_save = np.concatenate((output_at_the_moment, generation_array), axis=1)\n",
        "        file_to_save = np.vstack((file_to_save,generation_to_save))\n",
        "\n",
        "\n",
        "        while fn_evals < total_evals:\n",
        "\n",
        "            if fn_evals > total_evals * 0.8:\n",
        "                epsilon = 1.8 / 2\n",
        "                replace_flag = False\n",
        "\n",
        "            solutions_to_modify = obtain_solutions_to_modify(solutions, weights, n_vars)\n",
        "\n",
        "            choices, stalled = inteligent_select_dim_std(problem, solutions, n_vars, variable_threshold)\n",
        "\n",
        "            if len(choices) > 0:\n",
        "                number_to_modify = number_of_vars_to_modify(choices, n_initial, n_funcs)\n",
        "                modify_variables = vars_to_modify_func(choices, n_initial, number_to_modify)\n",
        "            else:\n",
        "                number_to_modify = number_of_vars_to_modify(stalled, n_initial, n_funcs)\n",
        "                modify_variables = vars_to_modify_func(stalled, n_initial, number_to_modify)\n",
        "\n",
        "            std_matrix = std_matrix_func(solutions, solutions_to_modify, modify_variables, n_initial, n_vars, epsilon)\n",
        "            new_solutions = new_solutions_func(solutions_to_modify, std_matrix, n_initial, n_vars)\n",
        "            new_evaluations = evaluate_function(problem, new_solutions, n_funcs, n_vars, inverted_flag)\n",
        "            fn_evals = fn_evals + n_initial\n",
        "\n",
        "            solutions = np.concatenate((solutions, new_solutions))\n",
        "            evaluations = np.concatenate((evaluations, new_evaluations))\n",
        "\n",
        "            solutions, evaluations, layers = layered_array(solutions, evaluations, n_vars, n_funcs, n_initial)\n",
        "\n",
        "            NDS = update_non_dominated(NDS, solutions, evaluations, n_vars, n_funcs, nds_max, pair_potential_function)\n",
        "            solutions, evaluations = PPF_sorting(solutions, evaluations, layers, NDS, n_initial, n_vars, n_funcs)\n",
        "\n",
        "            if (((gen)%replace_tw) == 0) and (len(stalled) > 0) and (replace_flag):\n",
        "                solutions, evaluations = new_replace_mechanism(stalled, NDS, n_vars, n_funcs, n_initial, replace_pct, problem, inverted_flag)\n",
        "                fn_evals = fn_evals + n_initial * replace_pct\n",
        "\n",
        "            gen = gen + 1\n",
        "\n",
        "\n",
        "        # Stack the output at the moment to the final archive that will be uploaded.\n",
        "        output_at_the_moment = update_non_dominated(NDS, solutions, evaluations, n_vars, n_funcs, n_final, pair_potential_function)\n",
        "        generation_array = np.zeros((output_at_the_moment.shape[0],1))\n",
        "        for i in range(output_at_the_moment.shape[0]):\n",
        "            generation_array[i] = fn_evals\n",
        "        generation_to_save = np.concatenate((output_at_the_moment, generation_array), axis=1)\n",
        "        file_to_save = np.vstack((file_to_save,generation_to_save))\n",
        "\n",
        "\n",
        "\n",
        "        tile_of_file = problem + \"_\" + str(inverted_flag) + \"_\" + str(n_funcs) + \"_\" + str(seed) + \".csv\"\n",
        "        file_to_save = np.delete(file_to_save,0,0)\n",
        "        df = pd.DataFrame(file_to_save)\n",
        "        tile_of_file = problem + \"_\" + str(inverted_flag) + \"_\" + str(n_funcs) + \"_\" + str(seed) + \".csv\"\n",
        "        df.to_csv(\"/content/drive/MyDrive/Final_Results/GI_MOACOR/\" + tile_of_file)\n",
        "\n",
        "\n",
        "        end_time = time.time()\n",
        "        elapsed_time = end_time - start_time\n",
        "        print('Experiment Completed: ', current + 1)\n",
        "        print(\"Elapsed time: \", elapsed_time)\n",
        "        hyper_volume = ind_main(output_at_the_moment[:,n_vars:n_vars+n_funcs])\n",
        "        print('HV', hyper_volume)\n",
        "        plot_3d(output_at_the_moment[:,n_vars:n_vars+n_funcs], tile_of_file)"
      ]
    }
  ],
  "metadata": {
    "colab": {
      "provenance": []
    },
    "kernelspec": {
      "display_name": "Python 3",
      "name": "python3"
    },
    "language_info": {
      "name": "python"
    }
  },
  "nbformat": 4,
  "nbformat_minor": 0
}